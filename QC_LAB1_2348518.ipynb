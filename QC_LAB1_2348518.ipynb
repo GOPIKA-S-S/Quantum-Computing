{
  "nbformat": 4,
  "nbformat_minor": 0,
  "metadata": {
    "colab": {
      "provenance": [],
      "include_colab_link": true
    },
    "kernelspec": {
      "name": "python3",
      "display_name": "Python 3"
    },
    "language_info": {
      "name": "python"
    }
  },
  "cells": [
    {
      "cell_type": "markdown",
      "metadata": {
        "id": "view-in-github",
        "colab_type": "text"
      },
      "source": [
        "<a href=\"https://colab.research.google.com/github/GOPIKA-S-S/Quantum-Computing/blob/main/QC_LAB1_2348518.ipynb\" target=\"_parent\"><img src=\"https://colab.research.google.com/assets/colab-badge.svg\" alt=\"Open In Colab\"/></a>"
      ]
    },
    {
      "cell_type": "code",
      "source": [
        "import numpy as np"
      ],
      "metadata": {
        "id": "ZlKqyZOAGijh"
      },
      "execution_count": 1,
      "outputs": []
    },
    {
      "cell_type": "code",
      "source": [
        "from numpy import array"
      ],
      "metadata": {
        "id": "LSnq9xlxE0ki"
      },
      "execution_count": 2,
      "outputs": []
    },
    {
      "cell_type": "markdown",
      "source": [
        "ket0 and ket1 are the basis states of a qubit, also known as computational basis states:\n",
        "\n",
        "|0⟩ (ket0) represents the qubit in the \"0\" state (binary 0).\n",
        "|1⟩ (ket1) represents the qubit in the \"1\" state (binary 1).\n",
        "\n",
        "These two states form the fundamental basis for quantum computing. Any quantum state can be expressed as a linear combination (superposition) of these two states."
      ],
      "metadata": {
        "id": "-4D95GmfetzJ"
      }
    },
    {
      "cell_type": "code",
      "source": [
        "ket0 = array([1, 0])\n",
        "ket1 = array([0, 1])\n"
      ],
      "metadata": {
        "id": "lM7kLTvaFY1N"
      },
      "execution_count": 3,
      "outputs": []
    },
    {
      "cell_type": "markdown",
      "source": [
        "Superposition is a core principle in quantum mechanics where a qubit can be in a combination of both |0⟩ and |1⟩. The qubit doesn’t just have a single value, but rather exists in both states simultaneously.\n",
        "Here, the state is\n",
        "(\n",
        "∣\n",
        "0\n",
        "⟩\n",
        "+\n",
        "∣\n",
        "1\n",
        "⟩\n",
        ")\n",
        "/\n",
        "2\n",
        "(∣0⟩+∣1⟩)/2, which is a simple superposition with equal probability amplitude for both states.\n",
        "Why it’s used: Superposition enables quantum computers to process multiple possibilities simultaneously, a key reason quantum computers can solve specific problems much faster than classical computers."
      ],
      "metadata": {
        "id": "N5Ni44HFe9aZ"
      }
    },
    {
      "cell_type": "code",
      "source": [
        "superposition = (ket0 / 2) + (ket1 / 2)\n"
      ],
      "metadata": {
        "id": "iGp8OBXgFavN"
      },
      "execution_count": 4,
      "outputs": []
    },
    {
      "cell_type": "code",
      "source": [
        "superposition"
      ],
      "metadata": {
        "colab": {
          "base_uri": "https://localhost:8080/"
        },
        "id": "7m3cpKVIFfsY",
        "outputId": "905f1f48-051a-495b-a57e-67159fc7cbed"
      },
      "execution_count": 5,
      "outputs": [
        {
          "output_type": "execute_result",
          "data": {
            "text/plain": [
              "array([0.5, 0.5])"
            ]
          },
          "metadata": {},
          "execution_count": 5
        }
      ]
    },
    {
      "cell_type": "markdown",
      "source": [
        "M1 (Identity Matrix): The identity matrix is a quantum operator that leaves a quantum state unchanged after application. In quantum mechanics, the identity matrix is analogous to doing nothing to a state.\n",
        "M2 (Quantum Gate): This is a non-standard quantum gate. Typically, quantum gates like Pauli matrices (X, Y, Z) or Hadamard are used, but M2 here is used as an example matrix to demonstrate matrix multiplication.\n",
        " Quantum gates are operations that manipulate qubits. By applying these gates (matrices) to qubits (state vectors), you change the state of the quantum system."
      ],
      "metadata": {
        "id": "rD5B9OnIg7U4"
      }
    },
    {
      "cell_type": "code",
      "execution_count": 6,
      "metadata": {
        "id": "oEHms3Xv-oOL"
      },
      "outputs": [],
      "source": [
        "M1 = array([[1, 0], [0, 1]])\n",
        "M2 = array([[1, 1], [1, 0]])\n"
      ]
    },
    {
      "cell_type": "code",
      "source": [
        "\n",
        "result = (M1 / 2) + (M2 / 2)"
      ],
      "metadata": {
        "id": "masl-W5REt7s"
      },
      "execution_count": 7,
      "outputs": []
    },
    {
      "cell_type": "markdown",
      "source": [
        "This line takes the average of two matrices M1 and M2. It's a demonstration of linear algebraic operations on matrices."
      ],
      "metadata": {
        "id": "htUjCvJehOX4"
      }
    },
    {
      "cell_type": "code",
      "source": [
        "result"
      ],
      "metadata": {
        "colab": {
          "base_uri": "https://localhost:8080/"
        },
        "id": "ggDRgFkJFBym",
        "outputId": "860bd29c-c58c-4a41-e732-84ce114ffe1d"
      },
      "execution_count": 8,
      "outputs": [
        {
          "output_type": "execute_result",
          "data": {
            "text/plain": [
              "array([[1. , 0.5],\n",
              "       [0.5, 0.5]])"
            ]
          },
          "metadata": {},
          "execution_count": 8
        }
      ]
    },
    {
      "cell_type": "markdown",
      "source": [
        "M1 * ket1: Applying the identity matrix M1 to the state ket1 results in ket1 since the identity matrix doesn’t alter the state.\n",
        "M1 * M2 and M2 * M1: This computes the product of two quantum gates."
      ],
      "metadata": {
        "id": "QEPkCLEbhaTF"
      }
    },
    {
      "cell_type": "code",
      "source": [
        "result1 = np.matmul(M1, ket1)\n",
        "result2 = np.matmul(M1, M2)\n",
        "result3 = np.matmul(M2, M1)\n",
        "\n",
        "# Display the results\n",
        "print(\"M1 * ket:\\n\", result1)\n",
        "print(\"M1 * M2:\\n\", result2)\n",
        "print(\"M2 * M1:\\n\", result3)\n"
      ],
      "metadata": {
        "colab": {
          "base_uri": "https://localhost:8080/"
        },
        "id": "voZx_FUqFDzu",
        "outputId": "9a24d7fa-85ae-410d-9e10-f6238aeccdbd"
      },
      "execution_count": 9,
      "outputs": [
        {
          "output_type": "stream",
          "name": "stdout",
          "text": [
            "M1 * ket:\n",
            " [0 1]\n",
            "M1 * M2:\n",
            " [[1 1]\n",
            " [1 0]]\n",
            "M2 * M1:\n",
            " [[1 1]\n",
            " [1 0]]\n"
          ]
        }
      ]
    },
    {
      "cell_type": "code",
      "source": [
        "from numpy import sqrt"
      ],
      "metadata": {
        "id": "k5XQ4fuPrP26"
      },
      "execution_count": 10,
      "outputs": []
    },
    {
      "cell_type": "code",
      "source": [
        "!pip install qiskit\n"
      ],
      "metadata": {
        "colab": {
          "base_uri": "https://localhost:8080/"
        },
        "id": "Rc0KjZVTr8u1",
        "outputId": "ca552785-3ae6-46a2-a4fd-74ad3badaca7"
      },
      "execution_count": 11,
      "outputs": [
        {
          "output_type": "stream",
          "name": "stdout",
          "text": [
            "Collecting qiskit\n",
            "  Downloading qiskit-1.2.4-cp38-abi3-manylinux_2_17_x86_64.manylinux2014_x86_64.whl.metadata (12 kB)\n",
            "Collecting rustworkx>=0.15.0 (from qiskit)\n",
            "  Downloading rustworkx-0.15.1-cp38-abi3-manylinux_2_17_x86_64.manylinux2014_x86_64.whl.metadata (9.9 kB)\n",
            "Requirement already satisfied: numpy<3,>=1.17 in /usr/local/lib/python3.10/dist-packages (from qiskit) (1.26.4)\n",
            "Requirement already satisfied: scipy>=1.5 in /usr/local/lib/python3.10/dist-packages (from qiskit) (1.13.1)\n",
            "Requirement already satisfied: sympy>=1.3 in /usr/local/lib/python3.10/dist-packages (from qiskit) (1.13.3)\n",
            "Collecting dill>=0.3 (from qiskit)\n",
            "  Downloading dill-0.3.9-py3-none-any.whl.metadata (10 kB)\n",
            "Requirement already satisfied: python-dateutil>=2.8.0 in /usr/local/lib/python3.10/dist-packages (from qiskit) (2.8.2)\n",
            "Collecting stevedore>=3.0.0 (from qiskit)\n",
            "  Downloading stevedore-5.3.0-py3-none-any.whl.metadata (2.3 kB)\n",
            "Requirement already satisfied: typing-extensions in /usr/local/lib/python3.10/dist-packages (from qiskit) (4.12.2)\n",
            "Collecting symengine<0.14,>=0.11 (from qiskit)\n",
            "  Downloading symengine-0.13.0-cp310-cp310-manylinux_2_17_x86_64.manylinux2014_x86_64.whl.metadata (1.2 kB)\n",
            "Requirement already satisfied: six>=1.5 in /usr/local/lib/python3.10/dist-packages (from python-dateutil>=2.8.0->qiskit) (1.16.0)\n",
            "Collecting pbr>=2.0.0 (from stevedore>=3.0.0->qiskit)\n",
            "  Downloading pbr-6.1.0-py2.py3-none-any.whl.metadata (3.4 kB)\n",
            "Requirement already satisfied: mpmath<1.4,>=1.1.0 in /usr/local/lib/python3.10/dist-packages (from sympy>=1.3->qiskit) (1.3.0)\n",
            "Downloading qiskit-1.2.4-cp38-abi3-manylinux_2_17_x86_64.manylinux2014_x86_64.whl (4.8 MB)\n",
            "\u001b[2K   \u001b[90m━━━━━━━━━━━━━━━━━━━━━━━━━━━━━━━━━━━━━━━━\u001b[0m \u001b[32m4.8/4.8 MB\u001b[0m \u001b[31m16.8 MB/s\u001b[0m eta \u001b[36m0:00:00\u001b[0m\n",
            "\u001b[?25hDownloading dill-0.3.9-py3-none-any.whl (119 kB)\n",
            "\u001b[2K   \u001b[90m━━━━━━━━━━━━━━━━━━━━━━━━━━━━━━━━━━━━━━━━\u001b[0m \u001b[32m119.4/119.4 kB\u001b[0m \u001b[31m7.2 MB/s\u001b[0m eta \u001b[36m0:00:00\u001b[0m\n",
            "\u001b[?25hDownloading rustworkx-0.15.1-cp38-abi3-manylinux_2_17_x86_64.manylinux2014_x86_64.whl (2.0 MB)\n",
            "\u001b[2K   \u001b[90m━━━━━━━━━━━━━━━━━━━━━━━━━━━━━━━━━━━━━━━━\u001b[0m \u001b[32m2.0/2.0 MB\u001b[0m \u001b[31m42.7 MB/s\u001b[0m eta \u001b[36m0:00:00\u001b[0m\n",
            "\u001b[?25hDownloading stevedore-5.3.0-py3-none-any.whl (49 kB)\n",
            "\u001b[2K   \u001b[90m━━━━━━━━━━━━━━━━━━━━━━━━━━━━━━━━━━━━━━━━\u001b[0m \u001b[32m49.7/49.7 kB\u001b[0m \u001b[31m2.5 MB/s\u001b[0m eta \u001b[36m0:00:00\u001b[0m\n",
            "\u001b[?25hDownloading symengine-0.13.0-cp310-cp310-manylinux_2_17_x86_64.manylinux2014_x86_64.whl (49.7 MB)\n",
            "\u001b[2K   \u001b[90m━━━━━━━━━━━━━━━━━━━━━━━━━━━━━━━━━━━━━━━━\u001b[0m \u001b[32m49.7/49.7 MB\u001b[0m \u001b[31m9.9 MB/s\u001b[0m eta \u001b[36m0:00:00\u001b[0m\n",
            "\u001b[?25hDownloading pbr-6.1.0-py2.py3-none-any.whl (108 kB)\n",
            "\u001b[2K   \u001b[90m━━━━━━━━━━━━━━━━━━━━━━━━━━━━━━━━━━━━━━━━\u001b[0m \u001b[32m108.5/108.5 kB\u001b[0m \u001b[31m5.5 MB/s\u001b[0m eta \u001b[36m0:00:00\u001b[0m\n",
            "\u001b[?25hInstalling collected packages: symengine, rustworkx, pbr, dill, stevedore, qiskit\n",
            "Successfully installed dill-0.3.9 pbr-6.1.0 qiskit-1.2.4 rustworkx-0.15.1 stevedore-5.3.0 symengine-0.13.0\n"
          ]
        }
      ]
    },
    {
      "cell_type": "markdown",
      "source": [
        "Statevector is a Qiskit class that represents a quantum state. It provides methods for initializing, manipulating, and measuring quantum states."
      ],
      "metadata": {
        "id": "dk_eftkOhkzz"
      }
    },
    {
      "cell_type": "code",
      "source": [
        "from qiskit.quantum_info import Statevector\n",
        "\n",
        "# Define the state vectors\n",
        "u = Statevector([1 / sqrt(2), 1 / sqrt(2)])\n",
        "v = Statevector([(1 + 2.8j) / 3, -2 / 3])\n",
        "w = Statevector([1 / 3, 2 / 3])\n"
      ],
      "metadata": {
        "id": "vzYh6r_4pN8Z"
      },
      "execution_count": 12,
      "outputs": []
    },
    {
      "cell_type": "code",
      "source": [
        "\n",
        "# Display the state vectors in LaTeX and text format\n",
        "display(u.draw(\"latex\"))\n",
        "display(v.draw(\"text\"))\n"
      ],
      "metadata": {
        "colab": {
          "base_uri": "https://localhost:8080/",
          "height": 59
        },
        "id": "Z1ov9NtAroji",
        "outputId": "f75403ee-64bc-489e-adb8-9b57ba802552"
      },
      "execution_count": 13,
      "outputs": [
        {
          "output_type": "display_data",
          "data": {
            "text/plain": [
              "<IPython.core.display.Latex object>"
            ],
            "text/latex": "$$\\frac{\\sqrt{2}}{2} |0\\rangle+\\frac{\\sqrt{2}}{2} |1\\rangle$$"
          },
          "metadata": {}
        },
        {
          "output_type": "display_data",
          "data": {
            "text/plain": [
              "[ 0.33333333+0.93333333j,-0.66666667+0.j        ]"
            ]
          },
          "metadata": {}
        }
      ]
    },
    {
      "cell_type": "code",
      "source": [
        "\n",
        "# Check if the state vectors are valid\n",
        "print(u.is_valid())\n",
        "print(w.is_valid())"
      ],
      "metadata": {
        "colab": {
          "base_uri": "https://localhost:8080/"
        },
        "id": "-uBNkfkxsFOH",
        "outputId": "56e4ade1-4bfc-42aa-df8f-28cb2a30f6f4"
      },
      "execution_count": 14,
      "outputs": [
        {
          "output_type": "stream",
          "name": "stdout",
          "text": [
            "True\n",
            "False\n"
          ]
        }
      ]
    },
    {
      "cell_type": "code",
      "source": [
        "from numpy import sqrt, linalg\n",
        "\n",
        "# Normalize the state vecto\n",
        "u = Statevector(u.data / linalg.norm(u.data))\n",
        "v = Statevector(v.data / linalg.norm(v.data))\n",
        "w = Statevector(w.data / linalg.norm(w.data))\n",
        "\n"
      ],
      "metadata": {
        "id": "ZASbj48otFBn"
      },
      "execution_count": 15,
      "outputs": []
    },
    {
      "cell_type": "code",
      "source": [
        "from qiskit.visualization import plot_histogram\n",
        "\n",
        "# Assuming you have a QuantumCircuit object named 'circuit'\n",
        "# and have executed it on a simulator or quantum hardware\n",
        "\n",
        "\n",
        "# Sample the counts 1000 times\n",
        "statistics = v.sample_counts(1000)\n",
        "\n",
        "# Display the statistics\n",
        "display(statistics)\n",
        "\n",
        "# Plot the histogram of the statistics\n",
        "plot_histogram(statistics)"
      ],
      "metadata": {
        "colab": {
          "base_uri": "https://localhost:8080/",
          "height": 447
        },
        "id": "Zq0d-Q22sNRo",
        "outputId": "bba048da-6fc9-4a20-ec27-f9471750822b"
      },
      "execution_count": 16,
      "outputs": [
        {
          "output_type": "display_data",
          "data": {
            "text/plain": [
              "{'0': 698, '1': 302}"
            ]
          },
          "metadata": {}
        },
        {
          "output_type": "execute_result",
          "data": {
            "text/plain": [
              "<Figure size 640x480 with 1 Axes>"
            ],
            "image/png": "[encoded data removed]"
          },
          "metadata": {},
          "execution_count": 16
        }
      ]
    },
    {
      "cell_type": "code",
      "source": [],
      "metadata": {
        "id": "4MgGaOznsjtF"
      },
      "execution_count": 16,
      "outputs": []
    }
  ]
}