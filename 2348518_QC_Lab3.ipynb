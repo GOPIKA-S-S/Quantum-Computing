{
  "nbformat": 4,
  "nbformat_minor": 0,
  "metadata": {
    "colab": {
      "provenance": [],
      "authorship_tag": "ABX9TyNyhcnb6FprzdYNqhNTtino",
      "include_colab_link": true
    },
    "kernelspec": {
      "name": "python3",
      "display_name": "Python 3"
    },
    "language_info": {
      "name": "python"
    }
  },
  "cells": [
    {
      "cell_type": "markdown",
      "metadata": {
        "id": "view-in-github",
        "colab_type": "text"
      },
      "source": [
        "<a href=\"https://colab.research.google.com/github/GOPIKA-S-S/Quantum-Computing/blob/main/2348518_QC_Lab3.ipynb\" target=\"_parent\"><img src=\"https://colab.research.google.com/assets/colab-badge.svg\" alt=\"Open In Colab\"/></a>"
      ]
    },
    {
      "cell_type": "code",
      "source": [
        "!pip install qiskit"
      ],
      "metadata": {
        "colab": {
          "base_uri": "https://localhost:8080/",
          "height": 0
        },
        "id": "z9_dtNTNlOFc",
        "outputId": "2e237b59-d8dd-4bb4-f028-3c6211b5d50b"
      },
      "execution_count": 20,
      "outputs": [
        {
          "output_type": "stream",
          "name": "stdout",
          "text": [
            "Requirement already satisfied: qiskit in /usr/local/lib/python3.10/dist-packages (1.2.4)\n",
            "Requirement already satisfied: rustworkx>=0.15.0 in /usr/local/lib/python3.10/dist-packages (from qiskit) (0.15.1)\n",
            "Requirement already satisfied: numpy<3,>=1.17 in /usr/local/lib/python3.10/dist-packages (from qiskit) (1.26.4)\n",
            "Requirement already satisfied: scipy>=1.5 in /usr/local/lib/python3.10/dist-packages (from qiskit) (1.13.1)\n",
            "Requirement already satisfied: sympy>=1.3 in /usr/local/lib/python3.10/dist-packages (from qiskit) (1.13.3)\n",
            "Requirement already satisfied: dill>=0.3 in /usr/local/lib/python3.10/dist-packages (from qiskit) (0.3.9)\n",
            "Requirement already satisfied: python-dateutil>=2.8.0 in /usr/local/lib/python3.10/dist-packages (from qiskit) (2.8.2)\n",
            "Requirement already satisfied: stevedore>=3.0.0 in /usr/local/lib/python3.10/dist-packages (from qiskit) (5.3.0)\n",
            "Requirement already satisfied: typing-extensions in /usr/local/lib/python3.10/dist-packages (from qiskit) (4.12.2)\n",
            "Requirement already satisfied: symengine<0.14,>=0.11 in /usr/local/lib/python3.10/dist-packages (from qiskit) (0.13.0)\n",
            "Requirement already satisfied: six>=1.5 in /usr/local/lib/python3.10/dist-packages (from python-dateutil>=2.8.0->qiskit) (1.16.0)\n",
            "Requirement already satisfied: pbr>=2.0.0 in /usr/local/lib/python3.10/dist-packages (from stevedore>=3.0.0->qiskit) (6.1.0)\n",
            "Requirement already satisfied: mpmath<1.4,>=1.1.0 in /usr/local/lib/python3.10/dist-packages (from sympy>=1.3->qiskit) (1.3.0)\n"
          ]
        }
      ]
    },
    {
      "cell_type": "code",
      "execution_count": 21,
      "metadata": {
        "id": "tKU6y-dM3M4Q"
      },
      "outputs": [],
      "source": [
        "from qiskit.quantum_info import Statevector,Operator\n",
        "from numpy import sqrt"
      ]
    },
    {
      "cell_type": "markdown",
      "source": [
        "Tensor product of two vector"
      ],
      "metadata": {
        "id": "CRYj-ucclauC"
      }
    },
    {
      "cell_type": "code",
      "source": [
        "from qiskit.quantum_info import Statevector\n",
        "from math import sqrt\n",
        "\n",
        "# Define the state vectors\n",
        "zero = Statevector.from_label('0')\n",
        "one = Statevector.from_label('1')\n",
        "\n",
        "# Perform the tensor product of zero and one\n",
        "tensor_result = zero.tensor(one)\n",
        "\n",
        "# Visualize the tensor product using LaTeX\n",
        "tensor_result.draw(\"latex\")\n"
      ],
      "metadata": {
        "colab": {
          "base_uri": "https://localhost:8080/",
          "height": 38
        },
        "id": "21KGu2aPlVVA",
        "outputId": "0859259c-5a49-4c74-9a66-aa4a4fc6bf18"
      },
      "execution_count": 22,
      "outputs": [
        {
          "output_type": "execute_result",
          "data": {
            "text/plain": [
              "<IPython.core.display.Latex object>"
            ],
            "text/latex": "$$ |01\\rangle$$"
          },
          "metadata": {},
          "execution_count": 22
        }
      ]
    },
    {
      "cell_type": "code",
      "source": [
        "# Create the |+⟩ state\n",
        "plus = Statevector.from_label('+')\n",
        "\n",
        "# Create the state vector i_state\n",
        "i_state = Statevector([1/sqrt(2), 1j/sqrt(2)])\n",
        "\n",
        "# Perform the tensor product of plus and i_state\n",
        "psi = plus.tensor(i_state)\n",
        "\n",
        "# Visualize the state vector psi using LaTeX\n",
        "psi.draw(\"latex\")\n"
      ],
      "metadata": {
        "colab": {
          "base_uri": "https://localhost:8080/",
          "height": 38
        },
        "id": "R5S8fRK3lr4f",
        "outputId": "471b8dfa-c45c-453d-c703-e9592aa1e5fc"
      },
      "execution_count": 23,
      "outputs": [
        {
          "output_type": "execute_result",
          "data": {
            "text/plain": [
              "<IPython.core.display.Latex object>"
            ],
            "text/latex": "$$\\frac{1}{2} |00\\rangle+\\frac{i}{2} |01\\rangle+\\frac{1}{2} |10\\rangle+\\frac{i}{2} |11\\rangle$$"
          },
          "metadata": {},
          "execution_count": 23
        }
      ]
    },
    {
      "cell_type": "markdown",
      "source": [
        "Create any operator and execute on state vector and finally do the partial measure"
      ],
      "metadata": {
        "id": "G7urk5E3oCcM"
      }
    },
    {
      "cell_type": "code",
      "source": [
        "# Define the X and I operators\n",
        "X = Operator([[0, 1], [1, 0]])\n",
        "I = Operator.from_label('I')\n",
        "\n",
        "# Perform the tensor product of X and I\n",
        "X.tensor(I)\n"
      ],
      "metadata": {
        "colab": {
          "base_uri": "https://localhost:8080/",
          "height": 0
        },
        "id": "-ajz5iD0mne5",
        "outputId": "d58361c6-331f-4e6d-e137-a40e91ddc3be"
      },
      "execution_count": 24,
      "outputs": [
        {
          "output_type": "stream",
          "name": "stdout",
          "text": [
            "Operator([[0.+0.j, 0.+0.j, 1.+0.j, 0.+0.j],\n",
            "          [0.+0.j, 0.+0.j, 0.+0.j, 1.+0.j],\n",
            "          [1.+0.j, 0.+0.j, 0.+0.j, 0.+0.j],\n",
            "          [0.+0.j, 1.+0.j, 0.+0.j, 0.+0.j]],\n",
            "         input_dims=(2, 2), output_dims=(2, 2))\n"
          ]
        }
      ]
    },
    {
      "cell_type": "code",
      "source": [
        "# Create a state vector to operate on\n",
        "state_vector = Statevector.from_label('00')\n",
        "\n",
        "# Apply the combined operator (X tensor I) on the state vector\n",
        "transformed_state = X_tensor_I @ state_vector\n",
        "\n",
        "# Perform partial measurement on the first qubit\n",
        "partial_measurement = transformed_state.to_matrix()\n",
        "partial_measurement = partial_measurement.reshape((4, 4))\n",
        "\n",
        "# Perform the partial measurement on the first qubit\n",
        "probabilities = abs(partial_measurement[:, 0]) ** 2 + abs(partial_measurement[:, 1]) ** 2\n",
        "print(\"Probabilities after partial measurement:\", probabilities)"
      ],
      "metadata": {
        "colab": {
          "base_uri": "https://localhost:8080/",
          "height": 0
        },
        "id": "ZjR3dnzeoIb0",
        "outputId": "c4f038f4-0c1f-4714-9946-63263066c7df"
      },
      "execution_count": 25,
      "outputs": [
        {
          "output_type": "stream",
          "name": "stdout",
          "text": [
            "Probabilities after partial measurement: [0. 0. 1. 0.]\n"
          ]
        }
      ]
    },
    {
      "cell_type": "markdown",
      "source": [
        "Derive the matrix representation of CSWAP and also the Dirac notation"
      ],
      "metadata": {
        "id": "lsJDd56bpjIi"
      }
    },
    {
      "cell_type": "code",
      "source": [
        "from qiskit import QuantumCircuit\n",
        "from qiskit.quantum_info import Operator\n",
        "\n",
        "# Create a Quantum Circuit with 3 qubits\n",
        "cswap_circuit = QuantumCircuit(3)\n",
        "\n",
        "# Apply CSWAP gate to the circuit\n",
        "cswap_circuit.cswap(0, 1, 2)\n",
        "\n",
        "# Convert the circuit to an Operator\n",
        "cswap_gate = Operator(cswap_circuit)\n",
        "\n",
        "# Print the matrix representation of the CSWAP gate\n",
        "print(\"Matrix representation of the CSWAP gate:\")\n",
        "print(cswap_gate.data)\n",
        "\n",
        "\n",
        "\n"
      ],
      "metadata": {
        "colab": {
          "base_uri": "https://localhost:8080/",
          "height": 0
        },
        "id": "U4stczd3pN_J",
        "outputId": "b119ce00-6f0b-40b9-b570-929b52f648f0"
      },
      "execution_count": 26,
      "outputs": [
        {
          "output_type": "stream",
          "name": "stdout",
          "text": [
            "Matrix representation of the CSWAP gate:\n",
            "[[1.+0.j 0.+0.j 0.+0.j 0.+0.j 0.+0.j 0.+0.j 0.+0.j 0.+0.j]\n",
            " [0.+0.j 1.+0.j 0.+0.j 0.+0.j 0.+0.j 0.+0.j 0.+0.j 0.+0.j]\n",
            " [0.+0.j 0.+0.j 1.+0.j 0.+0.j 0.+0.j 0.+0.j 0.+0.j 0.+0.j]\n",
            " [0.+0.j 0.+0.j 0.+0.j 0.+0.j 0.+0.j 1.+0.j 0.+0.j 0.+0.j]\n",
            " [0.+0.j 0.+0.j 0.+0.j 0.+0.j 1.+0.j 0.+0.j 0.+0.j 0.+0.j]\n",
            " [0.+0.j 0.+0.j 0.+0.j 1.+0.j 0.+0.j 0.+0.j 0.+0.j 0.+0.j]\n",
            " [0.+0.j 0.+0.j 0.+0.j 0.+0.j 0.+0.j 0.+0.j 1.+0.j 0.+0.j]\n",
            " [0.+0.j 0.+0.j 0.+0.j 0.+0.j 0.+0.j 0.+0.j 0.+0.j 1.+0.j]]\n"
          ]
        }
      ]
    },
    {
      "cell_type": "code",
      "source": [
        "# Print the Dirac notation of the CSWAP gate\n",
        "print(\"\\nDirac notation of the CSWAP gate:\")\n",
        "print(cswap_gate)"
      ],
      "metadata": {
        "colab": {
          "base_uri": "https://localhost:8080/",
          "height": 0
        },
        "id": "7Jm3kNWPpuBq",
        "outputId": "13b0a13f-6b61-40bf-c9b7-39677d4f8b7f"
      },
      "execution_count": 27,
      "outputs": [
        {
          "output_type": "stream",
          "name": "stdout",
          "text": [
            "\n",
            "Dirac notation of the CSWAP gate:\n",
            "Operator([[1.+0.j, 0.+0.j, 0.+0.j, 0.+0.j, 0.+0.j, 0.+0.j, 0.+0.j, 0.+0.j],\n",
            "          [0.+0.j, 1.+0.j, 0.+0.j, 0.+0.j, 0.+0.j, 0.+0.j, 0.+0.j, 0.+0.j],\n",
            "          [0.+0.j, 0.+0.j, 1.+0.j, 0.+0.j, 0.+0.j, 0.+0.j, 0.+0.j, 0.+0.j],\n",
            "          [0.+0.j, 0.+0.j, 0.+0.j, 0.+0.j, 0.+0.j, 1.+0.j, 0.+0.j, 0.+0.j],\n",
            "          [0.+0.j, 0.+0.j, 0.+0.j, 0.+0.j, 1.+0.j, 0.+0.j, 0.+0.j, 0.+0.j],\n",
            "          [0.+0.j, 0.+0.j, 0.+0.j, 1.+0.j, 0.+0.j, 0.+0.j, 0.+0.j, 0.+0.j],\n",
            "          [0.+0.j, 0.+0.j, 0.+0.j, 0.+0.j, 0.+0.j, 0.+0.j, 1.+0.j, 0.+0.j],\n",
            "          [0.+0.j, 0.+0.j, 0.+0.j, 0.+0.j, 0.+0.j, 0.+0.j, 0.+0.j, 1.+0.j]],\n",
            "         input_dims=(2, 2, 2), output_dims=(2, 2, 2))\n"
          ]
        }
      ]
    },
    {
      "cell_type": "code",
      "source": [
        "# Convert the circuit to a Statevector\n",
        "initial_state = Statevector.from_label('000')\n",
        "final_state = initial_state.evolve(cswap_circuit)\n",
        "\n",
        "# Measuring qubit 0 after applying the CSWAP gate\n",
        "result, measured_state = final_state.measure([0])\n",
        "\n",
        "# Print the measurement result\n",
        "print(f\"Measurement result: {result}\\nState after measurement\")\n",
        "measured_state.draw(\"latex\")"
      ],
      "metadata": {
        "colab": {
          "base_uri": "https://localhost:8080/",
          "height": 75
        },
        "id": "S9t3bvXArqI8",
        "outputId": "03ddca66-20a8-42d7-a01e-133ee4ea96cb"
      },
      "execution_count": 28,
      "outputs": [
        {
          "output_type": "stream",
          "name": "stdout",
          "text": [
            "Measurement result: 0\n",
            "State after measurement\n"
          ]
        },
        {
          "output_type": "execute_result",
          "data": {
            "text/plain": [
              "<IPython.core.display.Latex object>"
            ],
            "text/latex": "$$ |000\\rangle$$"
          },
          "metadata": {},
          "execution_count": 28
        }
      ]
    },
    {
      "cell_type": "markdown",
      "source": [
        "Derive the metric representation for Toffoli operation and also the Dirac notation."
      ],
      "metadata": {
        "id": "B_bnnv5aqEXp"
      }
    },
    {
      "cell_type": "code",
      "source": [
        "from qiskit import QuantumCircuit\n",
        "from qiskit.quantum_info import Operator\n",
        "\n",
        "# Create a Quantum Circuit with 3 qubits\n",
        "toffoli_circuit = QuantumCircuit(3)\n",
        "\n",
        "# Apply Toffoli gate to the circuit\n",
        "toffoli_circuit.ccx(0, 1, 2)\n",
        "\n",
        "# Convert the circuit to an Operator\n",
        "toffoli_gate = Operator(toffoli_circuit)\n",
        "\n",
        "# Print the matrix representation of the Toffoli gate\n",
        "print(\"Matrix representation of the Toffoli gate:\")\n",
        "print(toffoli_gate.data)\n",
        "\n"
      ],
      "metadata": {
        "colab": {
          "base_uri": "https://localhost:8080/",
          "height": 0
        },
        "id": "n2IpmJM9qBdC",
        "outputId": "b0aa8ac2-5f90-4ffb-c3f0-52178388205a"
      },
      "execution_count": 29,
      "outputs": [
        {
          "output_type": "stream",
          "name": "stdout",
          "text": [
            "Matrix representation of the Toffoli gate:\n",
            "[[1.+0.j 0.+0.j 0.+0.j 0.+0.j 0.+0.j 0.+0.j 0.+0.j 0.+0.j]\n",
            " [0.+0.j 1.+0.j 0.+0.j 0.+0.j 0.+0.j 0.+0.j 0.+0.j 0.+0.j]\n",
            " [0.+0.j 0.+0.j 1.+0.j 0.+0.j 0.+0.j 0.+0.j 0.+0.j 0.+0.j]\n",
            " [0.+0.j 0.+0.j 0.+0.j 0.+0.j 0.+0.j 0.+0.j 0.+0.j 1.+0.j]\n",
            " [0.+0.j 0.+0.j 0.+0.j 0.+0.j 1.+0.j 0.+0.j 0.+0.j 0.+0.j]\n",
            " [0.+0.j 0.+0.j 0.+0.j 0.+0.j 0.+0.j 1.+0.j 0.+0.j 0.+0.j]\n",
            " [0.+0.j 0.+0.j 0.+0.j 0.+0.j 0.+0.j 0.+0.j 1.+0.j 0.+0.j]\n",
            " [0.+0.j 0.+0.j 0.+0.j 1.+0.j 0.+0.j 0.+0.j 0.+0.j 0.+0.j]]\n"
          ]
        }
      ]
    },
    {
      "cell_type": "code",
      "source": [
        "# Print the Dirac notation of the Toffoli gate\n",
        "print(\"\\nDirac notation of the Toffoli gate:\")\n",
        "print(toffoli_gate)\n"
      ],
      "metadata": {
        "colab": {
          "base_uri": "https://localhost:8080/",
          "height": 0
        },
        "id": "ldHndZumqJCf",
        "outputId": "727aa7e6-2dde-4d0a-a940-3d930abe5713"
      },
      "execution_count": 30,
      "outputs": [
        {
          "output_type": "stream",
          "name": "stdout",
          "text": [
            "\n",
            "Dirac notation of the Toffoli gate:\n",
            "Operator([[1.+0.j, 0.+0.j, 0.+0.j, 0.+0.j, 0.+0.j, 0.+0.j, 0.+0.j, 0.+0.j],\n",
            "          [0.+0.j, 1.+0.j, 0.+0.j, 0.+0.j, 0.+0.j, 0.+0.j, 0.+0.j, 0.+0.j],\n",
            "          [0.+0.j, 0.+0.j, 1.+0.j, 0.+0.j, 0.+0.j, 0.+0.j, 0.+0.j, 0.+0.j],\n",
            "          [0.+0.j, 0.+0.j, 0.+0.j, 0.+0.j, 0.+0.j, 0.+0.j, 0.+0.j, 1.+0.j],\n",
            "          [0.+0.j, 0.+0.j, 0.+0.j, 0.+0.j, 1.+0.j, 0.+0.j, 0.+0.j, 0.+0.j],\n",
            "          [0.+0.j, 0.+0.j, 0.+0.j, 0.+0.j, 0.+0.j, 1.+0.j, 0.+0.j, 0.+0.j],\n",
            "          [0.+0.j, 0.+0.j, 0.+0.j, 0.+0.j, 0.+0.j, 0.+0.j, 1.+0.j, 0.+0.j],\n",
            "          [0.+0.j, 0.+0.j, 0.+0.j, 1.+0.j, 0.+0.j, 0.+0.j, 0.+0.j, 0.+0.j]],\n",
            "         input_dims=(2, 2, 2), output_dims=(2, 2, 2))\n"
          ]
        }
      ]
    },
    {
      "cell_type": "code",
      "source": [
        "# Convert the circuit to a Statevector\n",
        "initial_state = Statevector.from_label('000')\n",
        "final_state = initial_state.evolve(toffoli_circuit)\n",
        "\n",
        "# Measuring qubit 0 after applying the Toffoli gate\n",
        "result, measured_state = final_state.measure([0])\n",
        "\n",
        "# Print the measurement result\n",
        "print(f\"Measurement result: {result}\\nState after measurement\")\n",
        "measured_state.draw(\"latex\")"
      ],
      "metadata": {
        "colab": {
          "base_uri": "https://localhost:8080/",
          "height": 75
        },
        "id": "km_i2Czcqakm",
        "outputId": "55bdfce4-3fbe-4a50-976a-fa1f074b8eab"
      },
      "execution_count": 31,
      "outputs": [
        {
          "output_type": "stream",
          "name": "stdout",
          "text": [
            "Measurement result: 0\n",
            "State after measurement\n"
          ]
        },
        {
          "output_type": "execute_result",
          "data": {
            "text/plain": [
              "<IPython.core.display.Latex object>"
            ],
            "text/latex": "$$ |000\\rangle$$"
          },
          "metadata": {},
          "execution_count": 31
        }
      ]
    }
  ]
}