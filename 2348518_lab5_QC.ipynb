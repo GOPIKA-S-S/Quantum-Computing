{
  "nbformat": 4,
  "nbformat_minor": 0,
  "metadata": {
    "colab": {
      "provenance": []
    },
    "kernelspec": {
      "name": "python3",
      "display_name": "Python 3"
    },
    "language_info": {
      "name": "python"
    }
  },
  "cells": [
    {
      "cell_type": "code",
      "source": [
        "pip install qiskit"
      ],
      "metadata": {
        "colab": {
          "base_uri": "https://localhost:8080/"
        },
        "id": "wRNrBdSPJZkQ",
        "outputId": "2aed29e2-3256-44b2-d07b-da4d7fe88e33"
      },
      "execution_count": null,
      "outputs": [
        {
          "output_type": "stream",
          "name": "stdout",
          "text": [
            "Collecting qiskit\n",
            "  Downloading qiskit-1.2.4-cp38-abi3-manylinux_2_17_x86_64.manylinux2014_x86_64.whl.metadata (12 kB)\n",
            "Collecting rustworkx>=0.15.0 (from qiskit)\n",
            "  Downloading rustworkx-0.15.1-cp38-abi3-manylinux_2_17_x86_64.manylinux2014_x86_64.whl.metadata (9.9 kB)\n",
            "Requirement already satisfied: numpy<3,>=1.17 in /usr/local/lib/python3.10/dist-packages (from qiskit) (1.26.4)\n",
            "Requirement already satisfied: scipy>=1.5 in /usr/local/lib/python3.10/dist-packages (from qiskit) (1.13.1)\n",
            "Requirement already satisfied: sympy>=1.3 in /usr/local/lib/python3.10/dist-packages (from qiskit) (1.13.1)\n",
            "Collecting dill>=0.3 (from qiskit)\n",
            "  Downloading dill-0.3.9-py3-none-any.whl.metadata (10 kB)\n",
            "Requirement already satisfied: python-dateutil>=2.8.0 in /usr/local/lib/python3.10/dist-packages (from qiskit) (2.8.2)\n",
            "Collecting stevedore>=3.0.0 (from qiskit)\n",
            "  Downloading stevedore-5.3.0-py3-none-any.whl.metadata (2.3 kB)\n",
            "Requirement already satisfied: typing-extensions in /usr/local/lib/python3.10/dist-packages (from qiskit) (4.12.2)\n",
            "Collecting symengine<0.14,>=0.11 (from qiskit)\n",
            "  Downloading symengine-0.13.0-cp310-cp310-manylinux_2_17_x86_64.manylinux2014_x86_64.whl.metadata (1.2 kB)\n",
            "Requirement already satisfied: six>=1.5 in /usr/local/lib/python3.10/dist-packages (from python-dateutil>=2.8.0->qiskit) (1.16.0)\n",
            "Collecting pbr>=2.0.0 (from stevedore>=3.0.0->qiskit)\n",
            "  Downloading pbr-6.1.0-py2.py3-none-any.whl.metadata (3.4 kB)\n",
            "Requirement already satisfied: mpmath<1.4,>=1.1.0 in /usr/local/lib/python3.10/dist-packages (from sympy>=1.3->qiskit) (1.3.0)\n",
            "Downloading qiskit-1.2.4-cp38-abi3-manylinux_2_17_x86_64.manylinux2014_x86_64.whl (4.8 MB)\n",
            "\u001b[2K   \u001b[90m━━━━━━━━━━━━━━━━━━━━━━━━━━━━━━━━━━━━━━━━\u001b[0m \u001b[32m4.8/4.8 MB\u001b[0m \u001b[31m37.5 MB/s\u001b[0m eta \u001b[36m0:00:00\u001b[0m\n",
            "\u001b[?25hDownloading dill-0.3.9-py3-none-any.whl (119 kB)\n",
            "\u001b[2K   \u001b[90m━━━━━━━━━━━━━━━━━━━━━━━━━━━━━━━━━━━━━━━━\u001b[0m \u001b[32m119.4/119.4 kB\u001b[0m \u001b[31m8.7 MB/s\u001b[0m eta \u001b[36m0:00:00\u001b[0m\n",
            "\u001b[?25hDownloading rustworkx-0.15.1-cp38-abi3-manylinux_2_17_x86_64.manylinux2014_x86_64.whl (2.0 MB)\n",
            "\u001b[2K   \u001b[90m━━━━━━━━━━━━━━━━━━━━━━━━━━━━━━━━━━━━━━━━\u001b[0m \u001b[32m2.0/2.0 MB\u001b[0m \u001b[31m50.6 MB/s\u001b[0m eta \u001b[36m0:00:00\u001b[0m\n",
            "\u001b[?25hDownloading stevedore-5.3.0-py3-none-any.whl (49 kB)\n",
            "\u001b[2K   \u001b[90m━━━━━━━━━━━━━━━━━━━━━━━━━━━━━━━━━━━━━━━━\u001b[0m \u001b[32m49.7/49.7 kB\u001b[0m \u001b[31m3.1 MB/s\u001b[0m eta \u001b[36m0:00:00\u001b[0m\n",
            "\u001b[?25hDownloading symengine-0.13.0-cp310-cp310-manylinux_2_17_x86_64.manylinux2014_x86_64.whl (49.7 MB)\n",
            "\u001b[2K   \u001b[90m━━━━━━━━━━━━━━━━━━━━━━━━━━━━━━━━━━━━━━━━\u001b[0m \u001b[32m49.7/49.7 MB\u001b[0m \u001b[31m13.0 MB/s\u001b[0m eta \u001b[36m0:00:00\u001b[0m\n",
            "\u001b[?25hDownloading pbr-6.1.0-py2.py3-none-any.whl (108 kB)\n",
            "\u001b[2K   \u001b[90m━━━━━━━━━━━━━━━━━━━━━━━━━━━━━━━━━━━━━━━━\u001b[0m \u001b[32m108.5/108.5 kB\u001b[0m \u001b[31m5.1 MB/s\u001b[0m eta \u001b[36m0:00:00\u001b[0m\n",
            "\u001b[?25hInstalling collected packages: symengine, rustworkx, pbr, dill, stevedore, qiskit\n",
            "Successfully installed dill-0.3.9 pbr-6.1.0 qiskit-1.2.4 rustworkx-0.15.1 stevedore-5.3.0 symengine-0.13.0\n"
          ]
        }
      ]
    },
    {
      "cell_type": "code",
      "execution_count": null,
      "metadata": {
        "id": "j634C40zJNPE"
      },
      "outputs": [],
      "source": [
        "\n",
        "\n",
        "from qiskit import QuantumCircuit, QuantumRegister, ClassicalRegister\n",
        "from qiskit_aer import AerSimulator\n",
        "from qiskit.visualization import plot_histogram\n",
        "from qiskit.result import marginal_distribution\n",
        "from qiskit.circuit.library import UGate\n",
        "from numpy import pi, random"
      ]
    },
    {
      "cell_type": "code",
      "source": [
        "qubit = QuantumRegister(1, \"Q\")\n",
        "ebit0 = QuantumRegister(1, \"A\")\n",
        "ebit1 = QuantumRegister(1, \"B\")\n",
        "a = ClassicalRegister(1, \"a\")\n",
        "b = ClassicalRegister(1, \"b\")\n",
        "\n",
        "protocol = QuantumCircuit(qubit, ebit0, ebit1, a, b)\n",
        "\n",
        "protocol.h(ebit0)\n",
        "protocol.cx(ebit0, ebit1)\n",
        "protocol.barrier()\n",
        "\n",
        "# Alice's operations\n",
        "protocol.cx(qubit, ebit0)\n",
        "protocol.h(qubit)\n",
        "protocol.barrier()\n",
        "\n",
        "\n",
        "protocol.measure(ebit0, a)\n",
        "protocol.measure(qubit, b)\n",
        "protocol.barrier()\n",
        "\n",
        "\n",
        "with protocol.if_test((a, 1)):\n",
        "    protocol.x(ebit1)\n",
        "with protocol.if_test((b, 1)):\n",
        "    protocol.z(ebit1)\n",
        "\n",
        "display(protocol.draw())"
      ],
      "metadata": {
        "colab": {
          "base_uri": "https://localhost:8080/",
          "height": 371
        },
        "id": "J7DD_YFpJTL2",
        "outputId": "81919cd0-3396-4811-c5a4-6b13643c5ce0"
      },
      "execution_count": null,
      "outputs": [
        {
          "output_type": "display_data",
          "data": {
            "text/plain": [
              "                ░      ┌───┐ ░    ┌─┐ ░                                     »\n",
              "  Q: ───────────░───■──┤ H ├─░────┤M├─░─────────────────────────────────────»\n",
              "     ┌───┐      ░ ┌─┴─┐└───┘ ░ ┌─┐└╥┘ ░                                     »\n",
              "  A: ┤ H ├──■───░─┤ X ├──────░─┤M├─╫──░─────────────────────────────────────»\n",
              "     └───┘┌─┴─┐ ░ └───┘      ░ └╥┘ ║  ░ ┌────── ┌───┐ ───────┐ ┌────── ┌───┐»\n",
              "  B: ─────┤ X ├─░────────────░──╫──╫──░─┤ If-0  ┤ X ├  End-0 ├─┤ If-0  ┤ Z ├»\n",
              "          └───┘ ░            ░  ║  ║  ░ └──╥─── └───┘ ───────┘ └──╥─── └───┘»\n",
              "                                ║  ║    ┌──╨──┐                   ║         »\n",
              "a: 1/═══════════════════════════╩══╬════╡ 0x1 ╞═══════════════════╬═════════»\n",
              "                                0  ║    └─────┘                ┌──╨──┐      »\n",
              "b: 1/══════════════════════════════╩═══════════════════════════╡ 0x1 ╞══════»\n",
              "                                   0                           └─────┘      »\n",
              "«               \n",
              "«  Q: ──────────\n",
              "«               \n",
              "«  A: ──────────\n",
              "«      ───────┐ \n",
              "«  B:   End-0 ├─\n",
              "«      ───────┘ \n",
              "«a: 1/══════════\n",
              "«               \n",
              "«b: 1/══════════\n",
              "«               "
            ],
            "text/html": [
              "<pre style=\"word-wrap: normal;white-space: pre;background: #fff0;line-height: 1.1;font-family: &quot;Courier New&quot;,Courier,monospace\">                ░      ┌───┐ ░    ┌─┐ ░                                     »\n",
              "  Q: ───────────░───■──┤ H ├─░────┤M├─░─────────────────────────────────────»\n",
              "     ┌───┐      ░ ┌─┴─┐└───┘ ░ ┌─┐└╥┘ ░                                     »\n",
              "  A: ┤ H ├──■───░─┤ X ├──────░─┤M├─╫──░─────────────────────────────────────»\n",
              "     └───┘┌─┴─┐ ░ └───┘      ░ └╥┘ ║  ░ ┌────── ┌───┐ ───────┐ ┌────── ┌───┐»\n",
              "  B: ─────┤ X ├─░────────────░──╫──╫──░─┤ If-0  ┤ X ├  End-0 ├─┤ If-0  ┤ Z ├»\n",
              "          └───┘ ░            ░  ║  ║  ░ └──╥─── └───┘ ───────┘ └──╥─── └───┘»\n",
              "                                ║  ║    ┌──╨──┐                   ║         »\n",
              "a: 1/═══════════════════════════╩══╬════╡ 0x1 ╞═══════════════════╬═════════»\n",
              "                                0  ║    └─────┘                ┌──╨──┐      »\n",
              "b: 1/══════════════════════════════╩═══════════════════════════╡ 0x1 ╞══════»\n",
              "                                   0                           └─────┘      »\n",
              "«               \n",
              "«  Q: ──────────\n",
              "«               \n",
              "«  A: ──────────\n",
              "«      ───────┐ \n",
              "«  B:   End-0 ├─\n",
              "«      ───────┘ \n",
              "«a: 1/══════════\n",
              "«               \n",
              "«b: 1/══════════\n",
              "«               </pre>"
            ]
          },
          "metadata": {}
        }
      ]
    },
    {
      "cell_type": "code",
      "source": [
        "random_gate = UGate(\n",
        "    theta=random.random() * 2 * pi,\n",
        "    phi=random.random() * 2 * pi,\n",
        "    lam=random.random() * 2 * pi,\n",
        ")\n",
        "\n",
        "display(random_gate.to_matrix())"
      ],
      "metadata": {
        "colab": {
          "base_uri": "https://localhost:8080/",
          "height": 52
        },
        "id": "d9oVZ21WJr_F",
        "outputId": "f5e402d3-54bf-45e5-d125-bd4ef1effc1f"
      },
      "execution_count": null,
      "outputs": [
        {
          "output_type": "display_data",
          "data": {
            "text/plain": [
              "array([[-0.33436362+0.j        , -0.08810718+0.93831663j],\n",
              "       [-0.80567244+0.48897126j, -0.14599663-0.30080561j]])"
            ]
          },
          "metadata": {}
        }
      ]
    },
    {
      "cell_type": "code",
      "source": [
        "\n",
        "\n",
        "test = QuantumCircuit(qubit, ebit0, ebit1, a, b)\n",
        "\n",
        "\n",
        "test.append(random_gate, qubit)\n",
        "test.barrier()\n",
        "\n",
        "\n",
        "\n",
        "test = test.compose(protocol)\n",
        "test.barrier()\n",
        "\n",
        "\n",
        "\n",
        "test.append(random_gate.inverse(), ebit1)\n",
        "\n",
        "result = ClassicalRegister(1, \"Result\")\n",
        "test.add_register(result)\n",
        "test.measure(ebit1, result)\n",
        "\n",
        "display(test.draw())"
      ],
      "metadata": {
        "colab": {
          "base_uri": "https://localhost:8080/",
          "height": 633
        },
        "id": "vxq-97IlJxXQ",
        "outputId": "a43533b4-73f9-4567-e752-a6fdfd94fc97"
      },
      "execution_count": null,
      "outputs": [
        {
          "output_type": "display_data",
          "data": {
            "text/plain": [
              "          ┌────────────────────────┐ ░            ░      ┌───┐ ░    ┌─┐ ░ »\n",
              "       Q: ┤ U(3.8235,2.5961,4.806) ├─░────────────░───■──┤ H ├─░────┤M├─░─»\n",
              "          └────────────────────────┘ ░ ┌───┐      ░ ┌─┴─┐└───┘ ░ ┌─┐└╥┘ ░ »\n",
              "       A: ───────────────────────────░─┤ H ├──■───░─┤ X ├──────░─┤M├─╫──░─»\n",
              "                                     ░ └───┘┌─┴─┐ ░ └───┘      ░ └╥┘ ║  ░ »\n",
              "       B: ───────────────────────────░──────┤ X ├─░────────────░──╫──╫──░─»\n",
              "                                     ░      └───┘ ░            ░  ║  ║  ░ »\n",
              "     a: 1/════════════════════════════════════════════════════════╩══╬════»\n",
              "                                                                  0  ║    »\n",
              "     b: 1/═══════════════════════════════════════════════════════════╩════»\n",
              "                                                                     0    »\n",
              "Result: 1/════════════════════════════════════════════════════════════════»\n",
              "                                                                          »\n",
              "«                                                         ░ »\n",
              "«       Q: ───────────────────────────────────────────────░─»\n",
              "«                                                         ░ »\n",
              "«       A: ───────────────────────────────────────────────░─»\n",
              "«          ┌────── ┌───┐ ───────┐ ┌────── ┌───┐ ───────┐  ░ »\n",
              "«       B: ┤ If-0  ┤ X ├  End-0 ├─┤ If-0  ┤ Z ├  End-0 ├──░─»\n",
              "«          └──╥─── └───┘ ───────┘ └──╥─── └───┘ ───────┘  ░ »\n",
              "«          ┌──╨──┐                   ║                      »\n",
              "«     a: 1/╡ 0x1 ╞═══════════════════╬══════════════════════»\n",
              "«          └─────┘                ┌──╨──┐                   »\n",
              "«     b: 1/═══════════════════════╡ 0x1 ╞═══════════════════»\n",
              "«                                 └─────┘                   »\n",
              "«Result: 1/═════════════════════════════════════════════════»\n",
              "«                                                           »\n",
              "«                                          \n",
              "«       Q: ────────────────────────────────\n",
              "«                                          \n",
              "«       A: ────────────────────────────────\n",
              "«          ┌───────────────────────────┐┌─┐\n",
              "«       B: ┤ U(-3.8235,-4.806,-2.5961) ├┤M├\n",
              "«          └───────────────────────────┘└╥┘\n",
              "«     a: 1/══════════════════════════════╬═\n",
              "«                                        ║ \n",
              "«     b: 1/══════════════════════════════╬═\n",
              "«                                        ║ \n",
              "«Result: 1/══════════════════════════════╩═\n",
              "«                                        0 "
            ],
            "text/html": [
              "<pre style=\"word-wrap: normal;white-space: pre;background: #fff0;line-height: 1.1;font-family: &quot;Courier New&quot;,Courier,monospace\">          ┌────────────────────────┐ ░            ░      ┌───┐ ░    ┌─┐ ░ »\n",
              "       Q: ┤ U(3.8235,2.5961,4.806) ├─░────────────░───■──┤ H ├─░────┤M├─░─»\n",
              "          └────────────────────────┘ ░ ┌───┐      ░ ┌─┴─┐└───┘ ░ ┌─┐└╥┘ ░ »\n",
              "       A: ───────────────────────────░─┤ H ├──■───░─┤ X ├──────░─┤M├─╫──░─»\n",
              "                                     ░ └───┘┌─┴─┐ ░ └───┘      ░ └╥┘ ║  ░ »\n",
              "       B: ───────────────────────────░──────┤ X ├─░────────────░──╫──╫──░─»\n",
              "                                     ░      └───┘ ░            ░  ║  ║  ░ »\n",
              "     a: 1/════════════════════════════════════════════════════════╩══╬════»\n",
              "                                                                  0  ║    »\n",
              "     b: 1/═══════════════════════════════════════════════════════════╩════»\n",
              "                                                                     0    »\n",
              "Result: 1/════════════════════════════════════════════════════════════════»\n",
              "                                                                          »\n",
              "«                                                         ░ »\n",
              "«       Q: ───────────────────────────────────────────────░─»\n",
              "«                                                         ░ »\n",
              "«       A: ───────────────────────────────────────────────░─»\n",
              "«          ┌────── ┌───┐ ───────┐ ┌────── ┌───┐ ───────┐  ░ »\n",
              "«       B: ┤ If-0  ┤ X ├  End-0 ├─┤ If-0  ┤ Z ├  End-0 ├──░─»\n",
              "«          └──╥─── └───┘ ───────┘ └──╥─── └───┘ ───────┘  ░ »\n",
              "«          ┌──╨──┐                   ║                      »\n",
              "«     a: 1/╡ 0x1 ╞═══════════════════╬══════════════════════»\n",
              "«          └─────┘                ┌──╨──┐                   »\n",
              "«     b: 1/═══════════════════════╡ 0x1 ╞═══════════════════»\n",
              "«                                 └─────┘                   »\n",
              "«Result: 1/═════════════════════════════════════════════════»\n",
              "«                                                           »\n",
              "«                                          \n",
              "«       Q: ────────────────────────────────\n",
              "«                                          \n",
              "«       A: ────────────────────────────────\n",
              "«          ┌───────────────────────────┐┌─┐\n",
              "«       B: ┤ U(-3.8235,-4.806,-2.5961) ├┤M├\n",
              "«          └───────────────────────────┘└╥┘\n",
              "«     a: 1/══════════════════════════════╬═\n",
              "«                                        ║ \n",
              "«     b: 1/══════════════════════════════╬═\n",
              "«                                        ║ \n",
              "«Result: 1/══════════════════════════════╩═\n",
              "«                                        0 </pre>"
            ]
          },
          "metadata": {}
        }
      ]
    }
  ]
}